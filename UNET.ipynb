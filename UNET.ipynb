{
  "nbformat": 4,
  "nbformat_minor": 0,
  "metadata": {
    "colab": {
      "name": "UNET_test.ipynb",
      "provenance": [],
      "collapsed_sections": []
    },
    "kernelspec": {
      "name": "python3",
      "display_name": "Python 3"
    },
    "accelerator": "GPU"
  },
  "cells": [
    {
      "cell_type": "code",
      "metadata": {
        "id": "E8B6ES4v95gk",
        "colab_type": "code",
        "colab": {}
      },
      "source": [
        "!pip install git+https://github.com/tdrobbins/unet.git@nchannels"
      ],
      "execution_count": 0,
      "outputs": []
    },
    {
      "cell_type": "code",
      "metadata": {
        "id": "dqlHpp5i3CgF",
        "colab_type": "code",
        "colab": {}
      },
      "source": [
        "%load_ext tensorboard\n",
        "import tensorflow as tf\n",
        "import unet\n",
        "from PIL import Image\n",
        "import pandas as pd\n",
        "import matplotlib.pyplot as pp\n",
        "import seaborn as sns\n",
        "from glob import glob\n",
        "from google.colab import files\n",
        "import numpy as np"
      ],
      "execution_count": 0,
      "outputs": []
    },
    {
      "cell_type": "markdown",
      "metadata": {
        "id": "e4_XrGAfAsh5",
        "colab_type": "text"
      },
      "source": [
        "# Preprocessing"
      ]
    },
    {
      "cell_type": "code",
      "metadata": {
        "id": "JzlN5zwYaTKB",
        "colab_type": "code",
        "colab": {}
      },
      "source": [
        "from google.colab import drive\n",
        "drive.mount('/content/drive',force_remount=True)"
      ],
      "execution_count": 0,
      "outputs": []
    },
    {
      "cell_type": "code",
      "metadata": {
        "id": "XmgNNAxACsgD",
        "colab_type": "code",
        "colab": {}
      },
      "source": [
        "def image_crop(img, size):\n",
        "  imgwidth, imgheight = img.size\n",
        "  rows = np.int(imgheight/size)\n",
        "  cols = np.int(imgwidth/size)\n",
        "  output_images = []\n",
        "  for i in range(rows):\n",
        "      for j in range(cols):\n",
        "          new_area= (j*size, i*size, (j+1)*size, (i+1)*size)\n",
        "          new_image = img.crop(new_area)\n",
        "          output_images.append(new_image)\n",
        "  return output_images\n",
        "\n",
        "def load_data(img_files, crop_size=None, resize=None, scale=None):\n",
        "  imgs = [Image.open(img).resize((5120,5120), Image.ANTIALIAS) for img in img_files]\n",
        "  \n",
        "  if crop_size:\n",
        "    cropped_imgs = []\n",
        "    for img in imgs:\n",
        "      cropped_imgs.extend(image_crop(img, crop_size))\n",
        "    imgs = cropped_imgs\n",
        "    \n",
        "  if resize: imgs = [img.resize((resize, resize),Image.ANTIALIAS) for img in imgs]\n",
        "\n",
        "  imgs = np.asarray([np.asarray(img) for img in imgs])\n",
        "\n",
        "  if scale: imgs = imgs*scale \n",
        "\n",
        "  return imgs"
      ],
      "execution_count": 0,
      "outputs": []
    },
    {
      "cell_type": "code",
      "metadata": {
        "id": "NBCHx4Ox8irk",
        "colab_type": "code",
        "colab": {}
      },
      "source": [
        "# Loading and preprocessing data\n",
        "\n",
        "# Preprocessing paramters\n",
        "CROP        = 1024    # split raw images into many CROPxCROP images\n",
        "RESIZE      = 256    # downsample cropped image to RESIZExRESIZE\n",
        "N_CLASSES   = 4      # 2, 4, or 10\n",
        "CELLTOWERS  = True  # currently doesn't work... may require forking unet due to dumb bug\n",
        "\n",
        "# Loading satellite images into an array\n",
        "sat_files = np.sort(glob(\"/content/drive/My Drive/cs230/sen2_composite/*.tif\"))\n",
        "X = load_data(sat_files,crop_size=CROP,resize=RESIZE,scale=1./256.)\n",
        "\n",
        "# Loading nclasses version of lte mask images into an array\n",
        "lte_files = np.sort(glob(\"/content/drive/My Drive/cs230/lte/cat{}*.tif\".format(N_CLASSES)))\n",
        "Y = load_data(lte_files,crop_size=CROP,resize=RESIZE)\n",
        "\n",
        "# Resizing and scaling images\n",
        "\n",
        "if CELLTOWERS:\n",
        "  cell_files = np.sort(glob(\"/content/drive/My Drive/cs230/celltowers/*.tif\"))\n",
        "  cell_arr = load_data(cell_files,crop_size=CROP,resize=RESIZE)\n",
        "  X = np.asarray([np.dstack((x,c)) for x,c in zip(X,cell_arr)])\n",
        "  "
      ],
      "execution_count": 0,
      "outputs": []
    },
    {
      "cell_type": "markdown",
      "metadata": {
        "id": "6UZSVBY4A-Cq",
        "colab_type": "text"
      },
      "source": [
        "# Model Training"
      ]
    },
    {
      "cell_type": "code",
      "metadata": {
        "id": "BYQbd8UdnRsM",
        "colab_type": "code",
        "colab": {}
      },
      "source": [
        "%tensorboard --logdir /content/unet/"
      ],
      "execution_count": 0,
      "outputs": []
    },
    {
      "cell_type": "code",
      "metadata": {
        "id": "kuuwPTTGVjyQ",
        "colab_type": "code",
        "colab": {}
      },
      "source": [
        " # Setting up the datasets for tf\n",
        "TRAIN_SPLIT   = 0.8\n",
        "BATCH_SIZE    = 8\n",
        "CLASS_WEIGHTS = [5,5,5,1]\n",
        "\n",
        "split = np.round(X.shape[0]*TRAIN_SPLIT)\n",
        "\n",
        "sat_lte_dataset = tf.data.Dataset.from_tensor_slices((X,tf.one_hot(Y,N_CLASSES)*CLASS_WEIGHTS)).shuffle(1000)\n",
        "train_set = sat_lte_dataset.take(split).batch(BATCH_SIZE)\n",
        "test_set = sat_lte_dataset.skip(split).batch(BATCH_SIZE)"
      ],
      "execution_count": 0,
      "outputs": []
    },
    {
      "cell_type": "code",
      "metadata": {
        "id": "hjNOWqO-4aKh",
        "colab_type": "code",
        "colab": {}
      },
      "source": [
        "# Model hyperparameters\n",
        "LEARNING_RATE = 0.0001\n",
        "LAYER_DEPTH   = 5\n",
        "ROOT_FILTERS  = 64\n",
        "DROPOUT       = 0.0\n",
        "\n",
        "# Building the model\n",
        "unet_model = unet.build_model(X.shape[1], X.shape[2],\n",
        "                          channels = X.shape[3],\n",
        "                          num_classes = N_CLASSES,\n",
        "                          layer_depth = LAYER_DEPTH,\n",
        "                          filters_root= ROOT_FILTERS,\n",
        "                          dropout_rate = DROPOUT,\n",
        "                          padding = \"same\"\n",
        "                          )\n",
        "\n",
        "tensorboard_callback = tf.keras.callbacks.TensorBoard(log_dir=\"/content/unet/\"+datetime.datetime.now().strftime(\"%y%m%d-%H%M\"), histogram_freq=1)\n",
        "\n",
        "unet_model.compile(optimizer=tf.keras.optimizers.Adam(learning_rate=LEARNING_RATE),\n",
        "              loss=tf.keras.losses.CategoricalCrossentropy(from_logits=True),\n",
        "              metrics=[tf.keras.metrics.CategoricalAccuracy()])"
      ],
      "execution_count": 0,
      "outputs": []
    },
    {
      "cell_type": "code",
      "metadata": {
        "id": "Xb5p-zV6EukX",
        "colab_type": "code",
        "colab": {}
      },
      "source": [
        "# Dataset parameters \n",
        "EPOCHS        = 5\n",
        "model_history = unet_model.fit(train_set, \n",
        "                               validation_data=test_set,\n",
        "                               epochs=EPOCHS, \n",
        "                               batch_size=BATCH_SIZE,\n",
        "                               callbacks=[tensorboard_callback])"
      ],
      "execution_count": 0,
      "outputs": []
    },
    {
      "cell_type": "code",
      "metadata": {
        "id": "QgywHzUgZIDF",
        "colab_type": "code",
        "colab": {}
      },
      "source": [
        "# TODO: Doesn't support shuffling\n",
        "for i in range(0,15):\n",
        "  pp.figure(figsize=(10,10))\n",
        "  pp.subplot(133)\n",
        "  pp.imshow(unet_model.predict(np.expand_dims(X[i],0))[0][:,:,:3].argmax(-1))\n",
        "\n",
        "  pp.subplot(132)\n",
        "  pp.imshow(Y[i])\n",
        "\n",
        "  pp.subplot(131)\n",
        "  pp.imshow(X[i])\n",
        "  if i > N_TRAIN:\n",
        "    pp.title(\"dev set image {}\".format(i))"
      ],
      "execution_count": 0,
      "outputs": []
    },
    {
      "cell_type": "markdown",
      "metadata": {
        "id": "1KgbhfuHhD-O",
        "colab_type": "text"
      },
      "source": [
        ""
      ]
    }
  ]
}