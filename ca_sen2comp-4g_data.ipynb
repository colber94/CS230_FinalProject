{
 "cells": [
  {
   "cell_type": "code",
   "execution_count": null,
   "metadata": {},
   "outputs": [],
   "source": [
    "import numpy as np\n",
    "import pandas as pd\n",
    "import matplotlib.pyplot as pp\n",
    "import seaborn as sns\n",
    "\n",
    "import rasterio\n",
    "import geopandas as gpd\n",
    "import rasterio as rio\n",
    "import rasterio.plot as rioplot\n",
    "from glob import glob\n",
    "import earthpy as et\n",
    "import earthpy.spatial as es\n",
    "import earthpy.plot as ep"
   ]
  },
  {
   "cell_type": "code",
   "execution_count": null,
   "metadata": {},
   "outputs": [],
   "source": [
    "# 477 actual methodology data around CA\n",
    "ca_broadband = pd.read_csv(\"./Data/fcc477actual/CA_201906.csv\")\n",
    "\n",
    "# Loading CA census blocks shapefile\n",
    "# Download from https://www.census.gov/geographies/mapping-files/time-series/geo/tiger-line-file.html\n",
    "ca_shp = gpd.read_file(\"./Data/shapefiles/censusblocks/ca/tl_2019_06_tabblock10.shp\")\n",
    "\n",
    "# Combining the two into one dataframe\n",
    "def merge_data(shp,bbnd):\n",
    "    shp = shp.set_index(\"GEOID10\")\n",
    "    shp.index = shp.index.map(int)\n",
    "    \n",
    "    bbnd = bbnd.set_index(\"FIPS\")\n",
    "    bbnd.index = bbnd.index.map(int)\n",
    "    return shp.merge(bbnd,left_index=True, right_index=True, how=\"inner\")\n",
    "\n",
    "ca_merged = merge_data(ca_shp,ca_broadband)"
   ]
  },
  {
   "cell_type": "code",
   "execution_count": null,
   "metadata": {},
   "outputs": [],
   "source": [
    "# Displaying the satellite composite image\n",
    "# These images have RBG channels combined in one file and are smaller resolution compared to raw images\n",
    "# These composites are ~5mb, while the raw images are ~800mb ... Hopefully the composites work\n",
    "satimg = rio.open(\"./Data/sentinel2/ca/composite/T10TDK_composite.tif\").read()\n",
    "pp.figure(figsize=(10,10))\n",
    "pp.imshow(satimg.transpose([1,2,0]))"
   ]
  },
  {
   "cell_type": "code",
   "execution_count": null,
   "metadata": {},
   "outputs": [],
   "source": [
    "# Creating a shape from the satellite image\n",
    "# This will help us figure out which census block shape files we need to look at\n",
    "with rasterio.open(\"./Data/sentinel2/ca/composite/T10TDK_composite.tif\") as dataset:\n",
    "\n",
    "    mask = dataset.dataset_mask()\n",
    "    sat_trs = dataset.transform\n",
    "    sat_crs = dataset.crs\n",
    "\n",
    "    results = (\n",
    "        {'properties': {'raster_val': v}, 'geometry': s}\n",
    "        for i, (s, v) \n",
    "        in enumerate(\n",
    "            rio.features.shapes(mask, transform=dataset.transform)))\n",
    "\n",
    "# Storing the shape into a dataframe\n",
    "sat_gdf = gpd.GeoDataFrame.from_features(list(results),crs=sat_crs)\n",
    "\n",
    "# Making sure the coordinates system matches that used by in the CA census block shapefiles \n",
    "sat_gdf = sat_gdf.to_crs(ca_shp.crs)"
   ]
  },
  {
   "cell_type": "code",
   "execution_count": null,
   "metadata": {},
   "outputs": [],
   "source": [
    "# Getting the intersection of area covered by the satellite image and the census blocks\n",
    "sat_ovr = gpd.overlay(sat_gdf,ca_merged)"
   ]
  },
  {
   "cell_type": "code",
   "execution_count": null,
   "metadata": {},
   "outputs": [],
   "source": [
    "# Plotting \n",
    "sat_ovr.plot(column=\"4G_LTE\",edgecolor=\"face\", linewidth=1,figsize=(10,10),cmap=\"viridis\",)"
   ]
  },
  {
   "cell_type": "code",
   "execution_count": null,
   "metadata": {},
   "outputs": [],
   "source": [
    "# Rasterizing the shapefiles\n",
    "sat_ovr = sat_ovr.to_crs(sat_crs)\n",
    "shapes = [(geom,value) for geom, value in zip(sat_ovr[\"geometry\"],sat_ovr[\"4G_LTE\"])]\n",
    "raster_4g = rio.features.rasterize(shapes,np.shape(satimg[0]),transform=sat_trs)"
   ]
  },
  {
   "cell_type": "code",
   "execution_count": null,
   "metadata": {},
   "outputs": [],
   "source": [
    "# Making sure the images overlay correctly\n",
    "pp.figure(figsize=(10,10))\n",
    "pp.subplot(121)\n",
    "i=pp.imshow(satimg.transpose([1,2,0]))\n",
    "pp.title(\"Sentinal-2 Image\")\n",
    "\n",
    "pp.subplot(122)\n",
    "pp.title(\"4G LTE\")\n",
    "j=pp.imshow(raster_4g,alpha=1,cmap=\"viridis\")\n",
    "pp.show()"
   ]
  },
  {
   "cell_type": "code",
   "execution_count": null,
   "metadata": {},
   "outputs": [],
   "source": [
    "pp.figure(figsize=(10,10))\n",
    "for i,x in enumerate(range(4,10)):\n",
    "    pp.subplot(3,3,i+1)\n",
    "    pp.imshow(satimg[:,:2**x,:2**x].transpose([2,1,0]))\n",
    "    pp.title(2**x)"
   ]
  },
  {
   "cell_type": "code",
   "execution_count": null,
   "metadata": {},
   "outputs": [],
   "source": [
    "pp.figure(figsize=(10,10))\n",
    "step = 256\n",
    "for i in range(1,10):\n",
    "    pp.subplot(3,3,i)\n",
    "    pp.imshow(satimg[:, step*(i-1):step*(i), step*(i-1):step*(i)].transpose([2,1,0]))"
   ]
  },
  {
   "cell_type": "code",
   "execution_count": null,
   "metadata": {},
   "outputs": [],
   "source": []
  }
 ],
 "metadata": {
  "kernelspec": {
   "display_name": "Python 3",
   "language": "python",
   "name": "python3"
  },
  "language_info": {
   "codemirror_mode": {
    "name": "ipython",
    "version": 3
   },
   "file_extension": ".py",
   "mimetype": "text/x-python",
   "name": "python",
   "nbconvert_exporter": "python",
   "pygments_lexer": "ipython3",
   "version": "3.7.6"
  }
 },
 "nbformat": 4,
 "nbformat_minor": 4
}
