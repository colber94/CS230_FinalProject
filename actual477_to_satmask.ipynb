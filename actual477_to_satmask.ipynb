{
 "cells": [
  {
   "cell_type": "code",
   "execution_count": 82,
   "metadata": {},
   "outputs": [],
   "source": [
    "import numpy as np\n",
    "import pandas as pd\n",
    "import geopandas as gpd\n",
    "import rasterio as rio\n",
    "from rasterio import features\n",
    "from glob import glob\n",
    "from tqdm import tqdm"
   ]
  },
  {
   "cell_type": "code",
   "execution_count": 8,
   "metadata": {},
   "outputs": [],
   "source": [
    "# Combining the two into one dataframe\n",
    "def merge_shp_bnd(shp,bbnd):\n",
    "    shp = shp.set_index(\"GEOID10\")\n",
    "    shp.index = shp.index.map(int)\n",
    "    \n",
    "    bbnd = bbnd.set_index(\"FIPS\")\n",
    "    bbnd.index = bbnd.index.map(int)\n",
    "    return shp.merge(bbnd,left_index=True, right_index=True, how=\"inner\")\n",
    "\n",
    "def lteraster_from_sat(lte, path):\n",
    "    with rio.open(path) as dataset:\n",
    "        \n",
    "        satimg = dataset.read()\n",
    "        mask = dataset.dataset_mask()\n",
    "        sat_trs = dataset.transform\n",
    "        sat_crs = dataset.crs\n",
    "\n",
    "        results = (\n",
    "            {'properties': {'raster_val': v}, 'geometry': s}\n",
    "            for i, (s, v) \n",
    "            in enumerate(\n",
    "                rio.features.shapes(mask, transform=dataset.transform)))\n",
    "\n",
    "    sat = gpd.GeoDataFrame.from_features(list(results),crs=sat_crs)\n",
    "    \n",
    "    lte = lte.to_crs(sat_crs)\n",
    "    ovr = gpd.overlay(sat,lte)\n",
    "    \n",
    "    shapes = [(geom,value) for geom, value in zip(lte[\"geometry\"],lte[\"4G_LTE\"])]\n",
    "    return features.rasterize(shapes,np.shape(satimg[0]),transform=sat_trs)\n"
   ]
  },
  {
   "cell_type": "code",
   "execution_count": 10,
   "metadata": {},
   "outputs": [
    {
     "name": "stdout",
     "output_type": "stream",
     "text": [
      "Wall time: 55.3 s\n"
     ]
    }
   ],
   "source": [
    "%%time\n",
    "actual477 = pd.read_csv(\"./Data/fcc477actual/CA_201906.csv\")\n",
    "censusblocks = gpd.read_file(\"./Data/shapefiles/censusblocks/ca/tl_2019_06_tabblock10.shp\")"
   ]
  },
  {
   "cell_type": "code",
   "execution_count": 11,
   "metadata": {},
   "outputs": [
    {
     "name": "stdout",
     "output_type": "stream",
     "text": [
      "Wall time: 6.01 s\n"
     ]
    }
   ],
   "source": [
    "%%time\n",
    "merged = merge_shp_bnd(censusblocks,actual477)"
   ]
  },
  {
   "cell_type": "code",
   "execution_count": null,
   "metadata": {},
   "outputs": [
    {
     "name": "stderr",
     "output_type": "stream",
     "text": [
      "  0%|          | 0/20 [00:00<?, ?it/s]C:\\Users\\Tyler\\anaconda3\\envs\\cs230\\lib\\site-packages\\pyproj\\crs\\crs.py:53: FutureWarning: '+init=<authority>:<code>' syntax is deprecated. '<authority>:<code>' is the preferred initialization method. When making the change, be mindful of axis order changes: https://pyproj4.github.io/pyproj/stable/gotchas.html#axis-order-changes-in-proj-6\n",
      "  return _prepare_from_string(\" \".join(pjargs))\n",
      "  5%|▌         | 1/20 [03:39<1:09:30, 219.50s/it]C:\\Users\\Tyler\\anaconda3\\envs\\cs230\\lib\\site-packages\\pyproj\\crs\\crs.py:53: FutureWarning: '+init=<authority>:<code>' syntax is deprecated. '<authority>:<code>' is the preferred initialization method. When making the change, be mindful of axis order changes: https://pyproj4.github.io/pyproj/stable/gotchas.html#axis-order-changes-in-proj-6\n",
      "  return _prepare_from_string(\" \".join(pjargs))\n",
      " 10%|█         | 2/20 [07:33<1:07:11, 223.97s/it]C:\\Users\\Tyler\\anaconda3\\envs\\cs230\\lib\\site-packages\\pyproj\\crs\\crs.py:53: FutureWarning: '+init=<authority>:<code>' syntax is deprecated. '<authority>:<code>' is the preferred initialization method. When making the change, be mindful of axis order changes: https://pyproj4.github.io/pyproj/stable/gotchas.html#axis-order-changes-in-proj-6\n",
      "  return _prepare_from_string(\" \".join(pjargs))\n",
      " 15%|█▌        | 3/20 [11:23<1:03:58, 225.79s/it]C:\\Users\\Tyler\\anaconda3\\envs\\cs230\\lib\\site-packages\\pyproj\\crs\\crs.py:53: FutureWarning: '+init=<authority>:<code>' syntax is deprecated. '<authority>:<code>' is the preferred initialization method. When making the change, be mindful of axis order changes: https://pyproj4.github.io/pyproj/stable/gotchas.html#axis-order-changes-in-proj-6\n",
      "  return _prepare_from_string(\" \".join(pjargs))\n",
      " 20%|██        | 4/20 [15:14<1:00:35, 227.23s/it]C:\\Users\\Tyler\\anaconda3\\envs\\cs230\\lib\\site-packages\\pyproj\\crs\\crs.py:53: FutureWarning: '+init=<authority>:<code>' syntax is deprecated. '<authority>:<code>' is the preferred initialization method. When making the change, be mindful of axis order changes: https://pyproj4.github.io/pyproj/stable/gotchas.html#axis-order-changes-in-proj-6\n",
      "  return _prepare_from_string(\" \".join(pjargs))\n",
      " 25%|██▌       | 5/20 [19:03<56:56, 227.75s/it]  C:\\Users\\Tyler\\anaconda3\\envs\\cs230\\lib\\site-packages\\pyproj\\crs\\crs.py:53: FutureWarning: '+init=<authority>:<code>' syntax is deprecated. '<authority>:<code>' is the preferred initialization method. When making the change, be mindful of axis order changes: https://pyproj4.github.io/pyproj/stable/gotchas.html#axis-order-changes-in-proj-6\n",
      "  return _prepare_from_string(\" \".join(pjargs))\n",
      " 30%|███       | 6/20 [23:42<56:41, 242.99s/it]C:\\Users\\Tyler\\anaconda3\\envs\\cs230\\lib\\site-packages\\pyproj\\crs\\crs.py:53: FutureWarning: '+init=<authority>:<code>' syntax is deprecated. '<authority>:<code>' is the preferred initialization method. When making the change, be mindful of axis order changes: https://pyproj4.github.io/pyproj/stable/gotchas.html#axis-order-changes-in-proj-6\n",
      "  return _prepare_from_string(\" \".join(pjargs))\n",
      " 35%|███▌      | 7/20 [27:30<51:42, 238.67s/it]C:\\Users\\Tyler\\anaconda3\\envs\\cs230\\lib\\site-packages\\pyproj\\crs\\crs.py:53: FutureWarning: '+init=<authority>:<code>' syntax is deprecated. '<authority>:<code>' is the preferred initialization method. When making the change, be mindful of axis order changes: https://pyproj4.github.io/pyproj/stable/gotchas.html#axis-order-changes-in-proj-6\n",
      "  return _prepare_from_string(\" \".join(pjargs))\n",
      " 40%|████      | 8/20 [31:30<47:46, 238.91s/it]C:\\Users\\Tyler\\anaconda3\\envs\\cs230\\lib\\site-packages\\pyproj\\crs\\crs.py:53: FutureWarning: '+init=<authority>:<code>' syntax is deprecated. '<authority>:<code>' is the preferred initialization method. When making the change, be mindful of axis order changes: https://pyproj4.github.io/pyproj/stable/gotchas.html#axis-order-changes-in-proj-6\n",
      "  return _prepare_from_string(\" \".join(pjargs))\n",
      " 45%|████▌     | 9/20 [35:30<43:52, 239.32s/it]C:\\Users\\Tyler\\anaconda3\\envs\\cs230\\lib\\site-packages\\pyproj\\crs\\crs.py:53: FutureWarning: '+init=<authority>:<code>' syntax is deprecated. '<authority>:<code>' is the preferred initialization method. When making the change, be mindful of axis order changes: https://pyproj4.github.io/pyproj/stable/gotchas.html#axis-order-changes-in-proj-6\n",
      "  return _prepare_from_string(\" \".join(pjargs))\n",
      " 50%|█████     | 10/20 [40:40<43:26, 260.69s/it]C:\\Users\\Tyler\\anaconda3\\envs\\cs230\\lib\\site-packages\\pyproj\\crs\\crs.py:53: FutureWarning: '+init=<authority>:<code>' syntax is deprecated. '<authority>:<code>' is the preferred initialization method. When making the change, be mindful of axis order changes: https://pyproj4.github.io/pyproj/stable/gotchas.html#axis-order-changes-in-proj-6\n",
      "  return _prepare_from_string(\" \".join(pjargs))\n",
      " 55%|█████▌    | 11/20 [45:27<40:16, 268.46s/it]C:\\Users\\Tyler\\anaconda3\\envs\\cs230\\lib\\site-packages\\pyproj\\crs\\crs.py:53: FutureWarning: '+init=<authority>:<code>' syntax is deprecated. '<authority>:<code>' is the preferred initialization method. When making the change, be mindful of axis order changes: https://pyproj4.github.io/pyproj/stable/gotchas.html#axis-order-changes-in-proj-6\n",
      "  return _prepare_from_string(\" \".join(pjargs))\n",
      " 60%|██████    | 12/20 [50:07<36:15, 271.88s/it]C:\\Users\\Tyler\\anaconda3\\envs\\cs230\\lib\\site-packages\\pyproj\\crs\\crs.py:53: FutureWarning: '+init=<authority>:<code>' syntax is deprecated. '<authority>:<code>' is the preferred initialization method. When making the change, be mindful of axis order changes: https://pyproj4.github.io/pyproj/stable/gotchas.html#axis-order-changes-in-proj-6\n",
      "  return _prepare_from_string(\" \".join(pjargs))\n"
     ]
    }
   ],
   "source": [
    "open_path = glob(\"./Data/sentinel2/ca/composite/*.tif\")\n",
    "save_path = \"./Data/fcc477actual/sentinel2/ca/\"\n",
    "\n",
    "for path in tqdm(open_path):\n",
    "    sat_id = path.split(\"\\\\\")[1].split(\".\")[0]\n",
    "    lteraster = lteraster_from_sat(merged, path)\n",
    "    np.savez_compressed(save_path+sat_id,lteraster)"
   ]
  },
  {
   "cell_type": "code",
   "execution_count": 85,
   "metadata": {},
   "outputs": [
    {
     "name": "stdout",
     "output_type": "stream",
     "text": [
      "hello\n"
     ]
    }
   ],
   "source": [
    "print(\"hello\")"
   ]
  },
  {
   "cell_type": "code",
   "execution_count": null,
   "metadata": {},
   "outputs": [],
   "source": []
  }
 ],
 "metadata": {
  "kernelspec": {
   "display_name": "Python (cs230)",
   "language": "python",
   "name": "cs230"
  },
  "language_info": {
   "codemirror_mode": {
    "name": "ipython",
    "version": 3
   },
   "file_extension": ".py",
   "mimetype": "text/x-python",
   "name": "python",
   "nbconvert_exporter": "python",
   "pygments_lexer": "ipython3",
   "version": "3.7.7"
  }
 },
 "nbformat": 4,
 "nbformat_minor": 4
}
