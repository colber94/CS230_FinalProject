{
 "cells": [
  {
   "cell_type": "code",
   "execution_count": 12,
   "metadata": {},
   "outputs": [],
   "source": [
    "import numpy as np\n",
    "import pandas as pd\n",
    "import geopandas as gpd\n",
    "import rasterio as rio\n",
    "from rasterio import features\n",
    "from glob import glob\n",
    "import os\n",
    "from tqdm import tqdm"
   ]
  },
  {
   "cell_type": "code",
   "execution_count": 2,
   "metadata": {},
   "outputs": [],
   "source": [
    "# Combining the two into one dataframe\n",
    "def merge_shp_bnd(shp,bbnd):\n",
    "    shp = shp.set_index(\"GEOID10\")\n",
    "    shp.index = shp.index.map(int)\n",
    "    \n",
    "    bbnd = bbnd.set_index(\"FIPS\")\n",
    "    bbnd.index = bbnd.index.map(int)\n",
    "    return shp.merge(bbnd,left_index=True, right_index=True, how=\"inner\")\n",
    "\n",
    "def lteraster_from_sat(lte, path):\n",
    "    with rio.open(path) as dataset:\n",
    "        \n",
    "        satimg = dataset.read()\n",
    "        mask = dataset.dataset_mask()\n",
    "        sat_trs = dataset.transform\n",
    "        sat_crs = dataset.crs\n",
    "\n",
    "        results = (\n",
    "            {'properties': {'raster_val': v}, 'geometry': s}\n",
    "            for i, (s, v) \n",
    "            in enumerate(\n",
    "                rio.features.shapes(mask, transform=dataset.transform)))\n",
    "\n",
    "    sat = gpd.GeoDataFrame.from_features(list(results),crs=sat_crs)\n",
    "    \n",
    "    lte = lte.to_crs(sat_crs)\n",
    "    ovr = gpd.overlay(sat,lte)\n",
    "    \n",
    "    shapes = [(geom,value) for geom, value in zip(ovr[\"geometry\"],ovr[\"4G_LTE\"])]\n",
    "    return features.rasterize(shapes,np.shape(satimg[0]),transform=sat_trs)\n"
   ]
  },
  {
   "cell_type": "code",
   "execution_count": 26,
   "metadata": {},
   "outputs": [
    {
     "name": "stdout",
     "output_type": "stream",
     "text": [
      "Wall time: 2min 23s\n"
     ]
    }
   ],
   "source": [
    "%%time\n",
    "states = [\"ak\"]\n",
    "states_group = \"-\".join(states)\n",
    "\n",
    "actual477 = pd.concat([pd.read_csv(\"./fcc477actual/{}_201906.csv\".format(s.upper())) for s in states])\n",
    "block_paths = [\"./shapefiles/censusblocks/{}/tabblock10.shp\".format(s) for s in states]\n",
    "censusblocks = gpd.GeoDataFrame(pd.concat([gpd.read_file(i) for i in block_paths], ignore_index=True), crs=gpd.read_file(block_paths[0]).crs)"
   ]
  },
  {
   "cell_type": "code",
   "execution_count": 27,
   "metadata": {},
   "outputs": [
    {
     "name": "stdout",
     "output_type": "stream",
     "text": [
      "Wall time: 5.25 s\n"
     ]
    }
   ],
   "source": [
    "%%time\n",
    "merged = merge_shp_bnd(censusblocks,actual477)"
   ]
  },
  {
   "cell_type": "code",
   "execution_count": 28,
   "metadata": {},
   "outputs": [
    {
     "name": "stderr",
     "output_type": "stream",
     "text": [
      "  0%|          | 0/6 [00:00<?, ?it/s]C:\\Users\\Tyler\\anaconda3\\envs\\cs230\\lib\\site-packages\\pyproj\\crs\\crs.py:53: FutureWarning: '+init=<authority>:<code>' syntax is deprecated. '<authority>:<code>' is the preferred initialization method. When making the change, be mindful of axis order changes: https://pyproj4.github.io/pyproj/stable/gotchas.html#axis-order-changes-in-proj-6\n",
      "  return _prepare_from_string(\" \".join(pjargs))\n",
      " 17%|█▋        | 1/6 [08:55<44:39, 535.86s/it]C:\\Users\\Tyler\\anaconda3\\envs\\cs230\\lib\\site-packages\\pyproj\\crs\\crs.py:53: FutureWarning: '+init=<authority>:<code>' syntax is deprecated. '<authority>:<code>' is the preferred initialization method. When making the change, be mindful of axis order changes: https://pyproj4.github.io/pyproj/stable/gotchas.html#axis-order-changes-in-proj-6\n",
      "  return _prepare_from_string(\" \".join(pjargs))\n",
      " 33%|███▎      | 2/6 [15:46<33:13, 498.44s/it]C:\\Users\\Tyler\\anaconda3\\envs\\cs230\\lib\\site-packages\\pyproj\\crs\\crs.py:53: FutureWarning: '+init=<authority>:<code>' syntax is deprecated. '<authority>:<code>' is the preferred initialization method. When making the change, be mindful of axis order changes: https://pyproj4.github.io/pyproj/stable/gotchas.html#axis-order-changes-in-proj-6\n",
      "  return _prepare_from_string(\" \".join(pjargs))\n",
      " 50%|█████     | 3/6 [22:46<23:44, 474.84s/it]C:\\Users\\Tyler\\anaconda3\\envs\\cs230\\lib\\site-packages\\pyproj\\crs\\crs.py:53: FutureWarning: '+init=<authority>:<code>' syntax is deprecated. '<authority>:<code>' is the preferred initialization method. When making the change, be mindful of axis order changes: https://pyproj4.github.io/pyproj/stable/gotchas.html#axis-order-changes-in-proj-6\n",
      "  return _prepare_from_string(\" \".join(pjargs))\n",
      " 67%|██████▋   | 4/6 [29:55<15:22, 461.03s/it]C:\\Users\\Tyler\\anaconda3\\envs\\cs230\\lib\\site-packages\\pyproj\\crs\\crs.py:53: FutureWarning: '+init=<authority>:<code>' syntax is deprecated. '<authority>:<code>' is the preferred initialization method. When making the change, be mindful of axis order changes: https://pyproj4.github.io/pyproj/stable/gotchas.html#axis-order-changes-in-proj-6\n",
      "  return _prepare_from_string(\" \".join(pjargs))\n",
      " 83%|████████▎ | 5/6 [36:53<07:27, 448.00s/it]C:\\Users\\Tyler\\anaconda3\\envs\\cs230\\lib\\site-packages\\pyproj\\crs\\crs.py:53: FutureWarning: '+init=<authority>:<code>' syntax is deprecated. '<authority>:<code>' is the preferred initialization method. When making the change, be mindful of axis order changes: https://pyproj4.github.io/pyproj/stable/gotchas.html#axis-order-changes-in-proj-6\n",
      "  return _prepare_from_string(\" \".join(pjargs))\n",
      "100%|██████████| 6/6 [43:56<00:00, 439.44s/it]\n"
     ]
    }
   ],
   "source": [
    "open_path = glob(\"./sentinel2/{}/composite/*.tif\".format(states_group))\n",
    "save_path = \"./fcc477actual/sentinel2/{}/npz/\".format(states_group)\n",
    "if not os.path.isdir(save_path): os.makedirs(save_path)\n",
    "\n",
    "for path in tqdm(open_path):\n",
    "    sat_id = path.split(\"\\\\\")[1].split(\".\")[0]\n",
    "    lteraster = lteraster_from_sat(merged, path)\n",
    "    np.savez_compressed(save_path+sat_id,lteraster)"
   ]
  },
  {
   "cell_type": "code",
   "execution_count": 29,
   "metadata": {},
   "outputs": [
    {
     "name": "stdout",
     "output_type": "stream",
     "text": [
      "Using matplotlib backend: Qt5Agg\n",
      "Populating the interactive namespace from numpy and matplotlib\n"
     ]
    },
    {
     "data": {
      "text/plain": [
       "<matplotlib.image.AxesImage at 0x28b5d8f6bc8>"
      ]
     },
     "execution_count": 29,
     "metadata": {},
     "output_type": "execute_result"
    },
    {
     "data": {
      "image/png": "[encoded data removed]",
      "text/plain": [
       "<Figure size 432x288 with 1 Axes>"
      ]
     },
     "metadata": {
      "needs_background": "light"
     },
     "output_type": "display_data"
    }
   ],
   "source": [
    "%pylab\n",
    "%matplotlib inline\n",
    "imshow(lteraster)"
   ]
  },
  {
   "cell_type": "code",
   "execution_count": null,
   "metadata": {},
   "outputs": [],
   "source": []
  }
 ],
 "metadata": {
  "kernelspec": {
   "display_name": "Python (cs230)",
   "language": "python",
   "name": "cs230"
  },
  "language_info": {
   "codemirror_mode": {
    "name": "ipython",
    "version": 3
   },
   "file_extension": ".py",
   "mimetype": "text/x-python",
   "name": "python",
   "nbconvert_exporter": "python",
   "pygments_lexer": "ipython3",
   "version": "3.7.7"
  }
 },
 "nbformat": 4,
 "nbformat_minor": 4
}
