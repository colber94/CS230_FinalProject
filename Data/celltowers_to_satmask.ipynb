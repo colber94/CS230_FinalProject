{
 "cells": [
  {
   "cell_type": "code",
   "execution_count": 11,
   "metadata": {},
   "outputs": [],
   "source": [
    "import numpy as np\n",
    "import pandas as pd\n",
    "import geopandas as gpd\n",
    "import rasterio as rio\n",
    "from rasterio import features\n",
    "from glob import glob\n",
    "from tqdm import tqdm\n",
    "from PIL import Image"
   ]
  },
  {
   "cell_type": "code",
   "execution_count": 12,
   "metadata": {},
   "outputs": [],
   "source": [
    "state = \"or\"\n",
    "celltowers = gpd.read_file(\"celltowers/shapefiles/CellularTowers.shp\")\n",
    "cells = celltowers[celltowers[\"LOCSTATE\"] == state.upper()]\n",
    "\n",
    "open_path = glob(\"sentinel2/{}/composite/*.tif\".format(state))\n",
    "save_path = \"celltowers/sentinel2/{}/\".format(state)"
   ]
  },
  {
   "cell_type": "code",
   "execution_count": 13,
   "metadata": {},
   "outputs": [],
   "source": [
    "def cellraster_from_sat(cells, path):\n",
    "    with rio.open(path) as dataset:\n",
    "\n",
    "        satimg = dataset.read()\n",
    "        mask = dataset.dataset_mask()\n",
    "        sat_trs = dataset.transform\n",
    "        sat_crs = dataset.crs\n",
    "\n",
    "        results = (\n",
    "            {'properties': {'raster_val': v}, 'geometry': s}\n",
    "            for i, (s, v) \n",
    "            in enumerate(\n",
    "                rio.features.shapes(mask, transform=dataset.transform)))\n",
    "\n",
    "    sat = gpd.GeoDataFrame.from_features(list(results),crs=sat_crs)\n",
    "    cells = cells.to_crs(sat_crs)\n",
    "    intersects = cells[cells.intersects(sat.unary_union)]\n",
    "    cells_array = [(geom.buffer(400,20), 1) for geom in intersects[\"geometry\"]]\n",
    "    cells_raster = features.rasterize(cells_array,np.shape(satimg[0]),transform=sat_trs)\n",
    "    return Image.fromarray(cells_raster)"
   ]
  },
  {
   "cell_type": "code",
   "execution_count": 14,
   "metadata": {},
   "outputs": [
    {
     "name": "stderr",
     "output_type": "stream",
     "text": [
      "  0%|          | 0/16 [00:00<?, ?it/s]C:\\Users\\Tyler\\anaconda3\\envs\\cs230\\lib\\site-packages\\pyproj\\crs\\crs.py:53: FutureWarning: '+init=<authority>:<code>' syntax is deprecated. '<authority>:<code>' is the preferred initialization method. When making the change, be mindful of axis order changes: https://pyproj4.github.io/pyproj/stable/gotchas.html#axis-order-changes-in-proj-6\n",
      "  return _prepare_from_string(\" \".join(pjargs))\n",
      "  6%|▋         | 1/16 [00:01<00:17,  1.18s/it]C:\\Users\\Tyler\\anaconda3\\envs\\cs230\\lib\\site-packages\\pyproj\\crs\\crs.py:53: FutureWarning: '+init=<authority>:<code>' syntax is deprecated. '<authority>:<code>' is the preferred initialization method. When making the change, be mindful of axis order changes: https://pyproj4.github.io/pyproj/stable/gotchas.html#axis-order-changes-in-proj-6\n",
      "  return _prepare_from_string(\" \".join(pjargs))\n",
      " 12%|█▎        | 2/16 [00:02<00:16,  1.21s/it]C:\\Users\\Tyler\\anaconda3\\envs\\cs230\\lib\\site-packages\\pyproj\\crs\\crs.py:53: FutureWarning: '+init=<authority>:<code>' syntax is deprecated. '<authority>:<code>' is the preferred initialization method. When making the change, be mindful of axis order changes: https://pyproj4.github.io/pyproj/stable/gotchas.html#axis-order-changes-in-proj-6\n",
      "  return _prepare_from_string(\" \".join(pjargs))\n",
      " 19%|█▉        | 3/16 [00:03<00:15,  1.23s/it]C:\\Users\\Tyler\\anaconda3\\envs\\cs230\\lib\\site-packages\\pyproj\\crs\\crs.py:53: FutureWarning: '+init=<authority>:<code>' syntax is deprecated. '<authority>:<code>' is the preferred initialization method. When making the change, be mindful of axis order changes: https://pyproj4.github.io/pyproj/stable/gotchas.html#axis-order-changes-in-proj-6\n",
      "  return _prepare_from_string(\" \".join(pjargs))\n",
      " 25%|██▌       | 4/16 [00:05<00:15,  1.26s/it]C:\\Users\\Tyler\\anaconda3\\envs\\cs230\\lib\\site-packages\\pyproj\\crs\\crs.py:53: FutureWarning: '+init=<authority>:<code>' syntax is deprecated. '<authority>:<code>' is the preferred initialization method. When making the change, be mindful of axis order changes: https://pyproj4.github.io/pyproj/stable/gotchas.html#axis-order-changes-in-proj-6\n",
      "  return _prepare_from_string(\" \".join(pjargs))\n",
      " 31%|███▏      | 5/16 [00:06<00:13,  1.26s/it]C:\\Users\\Tyler\\anaconda3\\envs\\cs230\\lib\\site-packages\\pyproj\\crs\\crs.py:53: FutureWarning: '+init=<authority>:<code>' syntax is deprecated. '<authority>:<code>' is the preferred initialization method. When making the change, be mindful of axis order changes: https://pyproj4.github.io/pyproj/stable/gotchas.html#axis-order-changes-in-proj-6\n",
      "  return _prepare_from_string(\" \".join(pjargs))\n",
      " 38%|███▊      | 6/16 [00:07<00:12,  1.27s/it]C:\\Users\\Tyler\\anaconda3\\envs\\cs230\\lib\\site-packages\\pyproj\\crs\\crs.py:53: FutureWarning: '+init=<authority>:<code>' syntax is deprecated. '<authority>:<code>' is the preferred initialization method. When making the change, be mindful of axis order changes: https://pyproj4.github.io/pyproj/stable/gotchas.html#axis-order-changes-in-proj-6\n",
      "  return _prepare_from_string(\" \".join(pjargs))\n",
      " 44%|████▍     | 7/16 [00:08<00:11,  1.26s/it]C:\\Users\\Tyler\\anaconda3\\envs\\cs230\\lib\\site-packages\\pyproj\\crs\\crs.py:53: FutureWarning: '+init=<authority>:<code>' syntax is deprecated. '<authority>:<code>' is the preferred initialization method. When making the change, be mindful of axis order changes: https://pyproj4.github.io/pyproj/stable/gotchas.html#axis-order-changes-in-proj-6\n",
      "  return _prepare_from_string(\" \".join(pjargs))\n",
      " 50%|█████     | 8/16 [00:10<00:10,  1.26s/it]C:\\Users\\Tyler\\anaconda3\\envs\\cs230\\lib\\site-packages\\pyproj\\crs\\crs.py:53: FutureWarning: '+init=<authority>:<code>' syntax is deprecated. '<authority>:<code>' is the preferred initialization method. When making the change, be mindful of axis order changes: https://pyproj4.github.io/pyproj/stable/gotchas.html#axis-order-changes-in-proj-6\n",
      "  return _prepare_from_string(\" \".join(pjargs))\n",
      " 56%|█████▋    | 9/16 [00:11<00:08,  1.27s/it]C:\\Users\\Tyler\\anaconda3\\envs\\cs230\\lib\\site-packages\\pyproj\\crs\\crs.py:53: FutureWarning: '+init=<authority>:<code>' syntax is deprecated. '<authority>:<code>' is the preferred initialization method. When making the change, be mindful of axis order changes: https://pyproj4.github.io/pyproj/stable/gotchas.html#axis-order-changes-in-proj-6\n",
      "  return _prepare_from_string(\" \".join(pjargs))\n",
      " 62%|██████▎   | 10/16 [00:12<00:07,  1.26s/it]C:\\Users\\Tyler\\anaconda3\\envs\\cs230\\lib\\site-packages\\pyproj\\crs\\crs.py:53: FutureWarning: '+init=<authority>:<code>' syntax is deprecated. '<authority>:<code>' is the preferred initialization method. When making the change, be mindful of axis order changes: https://pyproj4.github.io/pyproj/stable/gotchas.html#axis-order-changes-in-proj-6\n",
      "  return _prepare_from_string(\" \".join(pjargs))\n",
      " 69%|██████▉   | 11/16 [00:13<00:06,  1.22s/it]C:\\Users\\Tyler\\anaconda3\\envs\\cs230\\lib\\site-packages\\pyproj\\crs\\crs.py:53: FutureWarning: '+init=<authority>:<code>' syntax is deprecated. '<authority>:<code>' is the preferred initialization method. When making the change, be mindful of axis order changes: https://pyproj4.github.io/pyproj/stable/gotchas.html#axis-order-changes-in-proj-6\n",
      "  return _prepare_from_string(\" \".join(pjargs))\n",
      " 75%|███████▌  | 12/16 [00:14<00:04,  1.22s/it]C:\\Users\\Tyler\\anaconda3\\envs\\cs230\\lib\\site-packages\\pyproj\\crs\\crs.py:53: FutureWarning: '+init=<authority>:<code>' syntax is deprecated. '<authority>:<code>' is the preferred initialization method. When making the change, be mindful of axis order changes: https://pyproj4.github.io/pyproj/stable/gotchas.html#axis-order-changes-in-proj-6\n",
      "  return _prepare_from_string(\" \".join(pjargs))\n",
      " 81%|████████▏ | 13/16 [00:16<00:03,  1.21s/it]C:\\Users\\Tyler\\anaconda3\\envs\\cs230\\lib\\site-packages\\pyproj\\crs\\crs.py:53: FutureWarning: '+init=<authority>:<code>' syntax is deprecated. '<authority>:<code>' is the preferred initialization method. When making the change, be mindful of axis order changes: https://pyproj4.github.io/pyproj/stable/gotchas.html#axis-order-changes-in-proj-6\n",
      "  return _prepare_from_string(\" \".join(pjargs))\n",
      " 88%|████████▊ | 14/16 [00:17<00:02,  1.22s/it]C:\\Users\\Tyler\\anaconda3\\envs\\cs230\\lib\\site-packages\\pyproj\\crs\\crs.py:53: FutureWarning: '+init=<authority>:<code>' syntax is deprecated. '<authority>:<code>' is the preferred initialization method. When making the change, be mindful of axis order changes: https://pyproj4.github.io/pyproj/stable/gotchas.html#axis-order-changes-in-proj-6\n",
      "  return _prepare_from_string(\" \".join(pjargs))\n",
      " 94%|█████████▍| 15/16 [00:18<00:01,  1.22s/it]C:\\Users\\Tyler\\anaconda3\\envs\\cs230\\lib\\site-packages\\pyproj\\crs\\crs.py:53: FutureWarning: '+init=<authority>:<code>' syntax is deprecated. '<authority>:<code>' is the preferred initialization method. When making the change, be mindful of axis order changes: https://pyproj4.github.io/pyproj/stable/gotchas.html#axis-order-changes-in-proj-6\n",
      "  return _prepare_from_string(\" \".join(pjargs))\n",
      "100%|██████████| 16/16 [00:19<00:00,  1.24s/it]\n"
     ]
    }
   ],
   "source": [
    "for path in tqdm(open_path):\n",
    "    sat_id = path.split(\"\\\\\")[1].split(\".\")[0]\n",
    "    cellraster = cellraster_from_sat(cells, path)\n",
    "    cellraster.save(save_path+sat_id+\".jpg\")"
   ]
  },
  {
   "cell_type": "code",
   "execution_count": 15,
   "metadata": {},
   "outputs": [
    {
     "name": "stdout",
     "output_type": "stream",
     "text": [
      "Using matplotlib backend: Qt5Agg\n",
      "Populating the interactive namespace from numpy and matplotlib\n"
     ]
    },
    {
     "data": {
      "text/plain": [
       "<matplotlib.image.AxesImage at 0x1f256e71608>"
      ]
     },
     "execution_count": 15,
     "metadata": {},
     "output_type": "execute_result"
    },
    {
     "data": {
      "image/png": "[encoded data removed]",
      "text/plain": [
       "<Figure size 432x288 with 1 Axes>"
      ]
     },
     "metadata": {
      "needs_background": "light"
     },
     "output_type": "display_data"
    }
   ],
   "source": [
    "%pylab\n",
    "%matplotlib inline\n",
    "imshow(cellraster)"
   ]
  },
  {
   "cell_type": "code",
   "execution_count": null,
   "metadata": {},
   "outputs": [],
   "source": []
  }
 ],
 "metadata": {
  "kernelspec": {
   "display_name": "Python (cs230)",
   "language": "python",
   "name": "cs230"
  },
  "language_info": {
   "codemirror_mode": {
    "name": "ipython",
    "version": 3
   },
   "file_extension": ".py",
   "mimetype": "text/x-python",
   "name": "python",
   "nbconvert_exporter": "python",
   "pygments_lexer": "ipython3",
   "version": "3.7.7"
  }
 },
 "nbformat": 4,
 "nbformat_minor": 4
}
